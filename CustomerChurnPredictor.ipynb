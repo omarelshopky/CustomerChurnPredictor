{
  "cells": [
    {
      "cell_type": "markdown",
      "id": "35255fc2",
      "metadata": {
        "id": "35255fc2"
      },
      "source": [
        "# Customer Churn Predictor\n",
        "## T.A. Aya Saad\n",
        "## Team Members:\n",
        "عمر هشام علي عبدالرزاق \n",
        "\n",
        "عبدالرحمن محيي محمد رمضان\n",
        "\n",
        "زياد عاطف شكري صادق\n",
        "\n",
        "فادي عصام عبدالهادي محمد\n",
        "\n",
        "إيناس احمد عبدالعظيم رزق\n",
        "\n",
        "دعاء يحيي اسماعيل حسن\n",
        "\n",
        "ميرنا عبدالله عبدالسلام عبدالقادر"
      ]
    },
    {
      "cell_type": "markdown",
      "id": "2299f661",
      "metadata": {
        "id": "2299f661"
      },
      "source": [
        "# Used Modules"
      ]
    },
    {
      "cell_type": "code",
      "execution_count": 88,
      "id": "c36c8109",
      "metadata": {
        "id": "c36c8109"
      },
      "outputs": [],
      "source": [
        "import pandas as pd\n",
        "import numpy as np\n",
        "%matplotlib inline\n",
        "import matplotlib.pyplot as plt\n",
        "import matplotlib.ticker as mtick\n",
        "import pickle                                         # Save and Load training models into files\n",
        "import seaborn as sns                                 # Draw various plots\n",
        "import missingno as msnum                             # Draw diagram shows the distribution of the null values\n",
        "from tabulate import tabulate                         # Build tabular output from 2d lists\n",
        "from sklearn.preprocessing import LabelEncoder        # Perform one label encoding to string values\n",
        "from sklearn.model_selection import train_test_split  # Split the dataset randomly to test and train \n",
        "from sklearn.linear_model import LogisticRegression \n",
        "from sklearn.svm import SVC\n",
        "from sklearn.tree import DecisionTreeClassifier\n",
        "from sklearn.ensemble import RandomForestClassifier\n",
        "from sklearn.feature_selection import SelectKBest, chi2, mutual_info_classif\n",
        "from sklearn.metrics import accuracy_score, precision_score, recall_score, classification_report, ConfusionMatrixDisplay, confusion_matrix\n",
        "from sklearn.model_selection import GridSearchCV\n",
        "from PyQt5.QtWidgets import * \n",
        "from PyQt5.QtGui import * \n",
        "from PyQt5.QtCore import * \n",
        "import sys"
      ]
    },
    {
      "cell_type": "markdown",
      "id": "577f35c0",
      "metadata": {
        "id": "577f35c0"
      },
      "source": [
        "# Global Variables"
      ]
    },
    {
      "cell_type": "code",
      "execution_count": 89,
      "id": "6aaae1d1",
      "metadata": {
        "id": "6aaae1d1"
      },
      "outputs": [],
      "source": [
        "DATASET_FILE = 'CustomersDataset.csv'\n",
        "\n",
        "APP_ML_MODELS = [\"LOGISTIC_REGRESSION\", \"SVM\", \"DECISION_TREE_ID3\", \"RANDOM_FOREST_TREE\"]\n",
        "\n",
        "APP_MODE = \"production\"\n",
        "\n",
        "models = {}"
      ]
    },
    {
      "cell_type": "markdown",
      "id": "Fi1JTWi-YhtR",
      "metadata": {
        "id": "Fi1JTWi-YhtR"
      },
      "source": [
        "# Helper Function"
      ]
    },
    {
      "cell_type": "code",
      "execution_count": 90,
      "id": "aWXHBAA3YmUS",
      "metadata": {
        "id": "aWXHBAA3YmUS"
      },
      "outputs": [],
      "source": [
        "def arrange_data(model_name, data):\n",
        "  \"\"\" Arrange user input data in dataframe\"\"\"\n",
        "  global label_encoder, dataset, models\n",
        "  arranged = []\n",
        "\n",
        "  for feature in dataset.columns[:-1]:\n",
        "    if feature in label_encoder:\n",
        "      arranged.append(label_encoder[feature].transform([data[feature]]))\n",
        "    else:\n",
        "      arranged.append(np.float64(data[feature]))\n",
        "  # arranged = np.array(arranged).reshape(1, -1)\n",
        "  # arranged = models[model_name][1].transform(arranged)\n",
        "  return pd.DataFrame([arranged])"
      ]
    },
    {
      "cell_type": "code",
      "execution_count": 91,
      "id": "5M5AjtP_Nd4a",
      "metadata": {
        "id": "5M5AjtP_Nd4a"
      },
      "outputs": [],
      "source": [
        "def evaluate_ml_model(model, x_test, y_test):\n",
        "  \"\"\" Evaluate Classification ML model \"\"\"\n",
        "  y_pred = model.predict(x_test)\n",
        "\n",
        "  score_table = [[\"Test Score\", model.score(x_test, y_test)]]\n",
        "  score_table.append([\"Accuracy\", accuracy_score(y_test, y_pred)])\n",
        "  score_table.append([\"Precision\", precision_score(y_test, y_pred)])\n",
        "  score_table.append([\"Recall\", recall_score(y_test, y_pred)])\n",
        "        \n",
        "  print(tabulate(score_table), \"\\n\")\n",
        "  print(classification_report(y_test, y_pred), \"\\n\")\n",
        "  # ConfusionMatrixDisplay.from_predictions(y_test, y_pred)\n",
        "  cm = confusion_matrix(y_test, model.predict(x_test), labels=model.classes_)\n",
        "  disp = ConfusionMatrixDisplay(confusion_matrix=cm, display_labels=model.classes_)\n",
        "  disp.plot()\n",
        "  # disp.show()\n",
        "\n",
        "  return \"{0:0.4f}\".format(score_table[1][1] * 100)"
      ]
    },
    {
      "cell_type": "code",
      "execution_count": 92,
      "id": "vmjkObIlJHpp",
      "metadata": {
        "id": "vmjkObIlJHpp"
      },
      "outputs": [],
      "source": [
        "def save_model(model_name):\n",
        "  \"\"\" Save ML model to file \"\"\"\n",
        "  global models\n",
        "  pickle.dump(models[model_name][0], open(\"./Models/\" + model_name + \".sav\", 'wb'))\n",
        "  pickle.dump(models[model_name][1], open(\"./Models/\" + model_name + \"_fs\" + \".sav\", 'wb'))\n",
        "\n",
        "def load_model(model_name):\n",
        "  \"\"\" Load a ML model from file \"\"\"\n",
        "  global models, fs\n",
        "  models[model_name] = [\n",
        "    pickle.load(open(\"./Models/\" + model_name + \".sav\", 'rb')),\n",
        "    pickle.load(open(\"./Models/\" + model_name + \"_fs\" + \".sav\", 'rb'))]"
      ]
    },
    {
      "cell_type": "code",
      "execution_count": 93,
      "id": "fJwTgFt2Uc8y",
      "metadata": {
        "id": "fJwTgFt2Uc8y"
      },
      "outputs": [],
      "source": [
        "def deploy_model(model_name, data):\n",
        "  \"\"\" Predict the churn using the deployment version of the ml model \"\"\"\n",
        "  y_pred = models[model_name][0].predict(arrange_data(model_name, data))\n",
        "  return label_encoder[\"Churn\"].inverse_transform(y_pred)"
      ]
    },
    {
      "cell_type": "code",
      "execution_count": 94,
      "id": "T7Zm0UpanWdg",
      "metadata": {
        "id": "T7Zm0UpanWdg"
      },
      "outputs": [],
      "source": [
        "def hyperparameter_tuning(model, param_grid):\n",
        "  \"\"\" Perform parameter tuning on a ML model \"\"\"\n",
        "  bestModel = [0,0]\n",
        "  bestScore = 0\n",
        "\n",
        "  for fs_score_method in [\"chi2\", \"mutual_info\"]:\n",
        "    for num_of_features in range(7, 20):\n",
        "      x_selected, fs = select_features(fs_score_method, num_of_features, x_data, y_data)\n",
        "      x_train, x_test, y_train, y_test = split_data(x_selected, y_data)\n",
        "\n",
        "      grid_search = GridSearchCV(model, param_grid, n_jobs=-1, refit=True)\n",
        "      grid_search = grid_search.fit(x_train, y_train)\n",
        "\n",
        "      print(f\"Best estimator found by grid search with {fs_score_method} and {num_of_features} features:\")\n",
        "      print(\"Best Estimator Params: \", grid_search.best_estimator_.get_params())\n",
        "      print(\"Best Params: \", grid_search.best_params_) \n",
        "      print(\"Best Score: \", grid_search.best_score_, \"\\n\\n\")\n",
        "\n",
        "      if grid_search.best_score_ > bestScore:\n",
        "        bestModel[0] = grid_search.best_estimator_\n",
        "        bestModel[1] = fs\n",
        "        bestScore = grid_search.best_score_\n",
        "        print(bestModel)\n",
        "\n",
        "  return bestModel"
      ]
    },
    {
      "cell_type": "markdown",
      "id": "9d8755de",
      "metadata": {
        "id": "9d8755de"
      },
      "source": [
        "# Dataset\n",
        "________________________________"
      ]
    },
    {
      "cell_type": "markdown",
      "id": "e7c55384",
      "metadata": {
        "id": "e7c55384"
      },
      "source": [
        "## Load Dataset"
      ]
    },
    {
      "cell_type": "code",
      "execution_count": 95,
      "id": "6f9079d3",
      "metadata": {
        "colab": {
          "base_uri": "https://localhost:8080/",
          "height": 345
        },
        "id": "6f9079d3",
        "outputId": "7df116ab-1a79-4d65-982c-2799c035958e"
      },
      "outputs": [
        {
          "data": {
            "text/html": [
              "<div>\n",
              "<style scoped>\n",
              "    .dataframe tbody tr th:only-of-type {\n",
              "        vertical-align: middle;\n",
              "    }\n",
              "\n",
              "    .dataframe tbody tr th {\n",
              "        vertical-align: top;\n",
              "    }\n",
              "\n",
              "    .dataframe thead th {\n",
              "        text-align: right;\n",
              "    }\n",
              "</style>\n",
              "<table border=\"1\" class=\"dataframe\">\n",
              "  <thead>\n",
              "    <tr style=\"text-align: right;\">\n",
              "      <th></th>\n",
              "      <th>customerID</th>\n",
              "      <th>gender</th>\n",
              "      <th>SeniorCitizen</th>\n",
              "      <th>Partner</th>\n",
              "      <th>Dependents</th>\n",
              "      <th>tenure</th>\n",
              "      <th>PhoneService</th>\n",
              "      <th>MultipleLines</th>\n",
              "      <th>InternetService</th>\n",
              "      <th>OnlineSecurity</th>\n",
              "      <th>...</th>\n",
              "      <th>DeviceProtection</th>\n",
              "      <th>TechSupport</th>\n",
              "      <th>StreamingTV</th>\n",
              "      <th>StreamingMovies</th>\n",
              "      <th>Contract</th>\n",
              "      <th>PaperlessBilling</th>\n",
              "      <th>PaymentMethod</th>\n",
              "      <th>MonthlyCharges</th>\n",
              "      <th>TotalCharges</th>\n",
              "      <th>Churn</th>\n",
              "    </tr>\n",
              "  </thead>\n",
              "  <tbody>\n",
              "    <tr>\n",
              "      <th>0</th>\n",
              "      <td>7590-VHVEG</td>\n",
              "      <td>Female</td>\n",
              "      <td>0</td>\n",
              "      <td>Yes</td>\n",
              "      <td>No</td>\n",
              "      <td>1</td>\n",
              "      <td>No</td>\n",
              "      <td>No phone service</td>\n",
              "      <td>DSL</td>\n",
              "      <td>No</td>\n",
              "      <td>...</td>\n",
              "      <td>No</td>\n",
              "      <td>No</td>\n",
              "      <td>No</td>\n",
              "      <td>No</td>\n",
              "      <td>Month-to-month</td>\n",
              "      <td>Yes</td>\n",
              "      <td>Electronic check</td>\n",
              "      <td>29.85</td>\n",
              "      <td>29.85</td>\n",
              "      <td>No</td>\n",
              "    </tr>\n",
              "    <tr>\n",
              "      <th>1</th>\n",
              "      <td>5575-GNVDE</td>\n",
              "      <td>Male</td>\n",
              "      <td>0</td>\n",
              "      <td>No</td>\n",
              "      <td>No</td>\n",
              "      <td>34</td>\n",
              "      <td>Yes</td>\n",
              "      <td>No</td>\n",
              "      <td>DSL</td>\n",
              "      <td>Yes</td>\n",
              "      <td>...</td>\n",
              "      <td>Yes</td>\n",
              "      <td>No</td>\n",
              "      <td>No</td>\n",
              "      <td>No</td>\n",
              "      <td>One year</td>\n",
              "      <td>No</td>\n",
              "      <td>Mailed check</td>\n",
              "      <td>56.95</td>\n",
              "      <td>1889.5</td>\n",
              "      <td>No</td>\n",
              "    </tr>\n",
              "    <tr>\n",
              "      <th>2</th>\n",
              "      <td>3668-QPYBK</td>\n",
              "      <td>Male</td>\n",
              "      <td>0</td>\n",
              "      <td>No</td>\n",
              "      <td>No</td>\n",
              "      <td>2</td>\n",
              "      <td>Yes</td>\n",
              "      <td>No</td>\n",
              "      <td>DSL</td>\n",
              "      <td>Yes</td>\n",
              "      <td>...</td>\n",
              "      <td>No</td>\n",
              "      <td>No</td>\n",
              "      <td>No</td>\n",
              "      <td>No</td>\n",
              "      <td>Month-to-month</td>\n",
              "      <td>Yes</td>\n",
              "      <td>Mailed check</td>\n",
              "      <td>53.85</td>\n",
              "      <td>108.15</td>\n",
              "      <td>Yes</td>\n",
              "    </tr>\n",
              "    <tr>\n",
              "      <th>3</th>\n",
              "      <td>7795-CFOCW</td>\n",
              "      <td>Male</td>\n",
              "      <td>0</td>\n",
              "      <td>No</td>\n",
              "      <td>No</td>\n",
              "      <td>45</td>\n",
              "      <td>No</td>\n",
              "      <td>No phone service</td>\n",
              "      <td>DSL</td>\n",
              "      <td>Yes</td>\n",
              "      <td>...</td>\n",
              "      <td>Yes</td>\n",
              "      <td>Yes</td>\n",
              "      <td>No</td>\n",
              "      <td>No</td>\n",
              "      <td>One year</td>\n",
              "      <td>No</td>\n",
              "      <td>Bank transfer (automatic)</td>\n",
              "      <td>42.30</td>\n",
              "      <td>1840.75</td>\n",
              "      <td>No</td>\n",
              "    </tr>\n",
              "    <tr>\n",
              "      <th>4</th>\n",
              "      <td>9237-HQITU</td>\n",
              "      <td>Female</td>\n",
              "      <td>0</td>\n",
              "      <td>No</td>\n",
              "      <td>No</td>\n",
              "      <td>2</td>\n",
              "      <td>Yes</td>\n",
              "      <td>No</td>\n",
              "      <td>Fiber optic</td>\n",
              "      <td>No</td>\n",
              "      <td>...</td>\n",
              "      <td>No</td>\n",
              "      <td>No</td>\n",
              "      <td>No</td>\n",
              "      <td>No</td>\n",
              "      <td>Month-to-month</td>\n",
              "      <td>Yes</td>\n",
              "      <td>Electronic check</td>\n",
              "      <td>70.70</td>\n",
              "      <td>151.65</td>\n",
              "      <td>Yes</td>\n",
              "    </tr>\n",
              "  </tbody>\n",
              "</table>\n",
              "<p>5 rows × 21 columns</p>\n",
              "</div>"
            ],
            "text/plain": [
              "   customerID  gender  SeniorCitizen Partner Dependents  tenure PhoneService  \\\n",
              "0  7590-VHVEG  Female              0     Yes         No       1           No   \n",
              "1  5575-GNVDE    Male              0      No         No      34          Yes   \n",
              "2  3668-QPYBK    Male              0      No         No       2          Yes   \n",
              "3  7795-CFOCW    Male              0      No         No      45           No   \n",
              "4  9237-HQITU  Female              0      No         No       2          Yes   \n",
              "\n",
              "      MultipleLines InternetService OnlineSecurity  ... DeviceProtection  \\\n",
              "0  No phone service             DSL             No  ...               No   \n",
              "1                No             DSL            Yes  ...              Yes   \n",
              "2                No             DSL            Yes  ...               No   \n",
              "3  No phone service             DSL            Yes  ...              Yes   \n",
              "4                No     Fiber optic             No  ...               No   \n",
              "\n",
              "  TechSupport StreamingTV StreamingMovies        Contract PaperlessBilling  \\\n",
              "0          No          No              No  Month-to-month              Yes   \n",
              "1          No          No              No        One year               No   \n",
              "2          No          No              No  Month-to-month              Yes   \n",
              "3         Yes          No              No        One year               No   \n",
              "4          No          No              No  Month-to-month              Yes   \n",
              "\n",
              "               PaymentMethod MonthlyCharges  TotalCharges Churn  \n",
              "0           Electronic check          29.85         29.85    No  \n",
              "1               Mailed check          56.95        1889.5    No  \n",
              "2               Mailed check          53.85        108.15   Yes  \n",
              "3  Bank transfer (automatic)          42.30       1840.75    No  \n",
              "4           Electronic check          70.70        151.65   Yes  \n",
              "\n",
              "[5 rows x 21 columns]"
            ]
          },
          "execution_count": 95,
          "metadata": {},
          "output_type": "execute_result"
        }
      ],
      "source": [
        "dataset = pd.read_csv(DATASET_FILE)\n",
        "dataset.head()"
      ]
    },
    {
      "cell_type": "markdown",
      "id": "9e67861f",
      "metadata": {
        "id": "9e67861f"
      },
      "source": [
        "## Attributes"
      ]
    },
    {
      "cell_type": "code",
      "execution_count": 96,
      "id": "xCwhRPypxuj5",
      "metadata": {
        "id": "xCwhRPypxuj5"
      },
      "outputs": [
        {
          "name": "stdout",
          "output_type": "stream",
          "text": [
            "| Attribute        | Data Type   |   Unique Values Count | Unique Values                                                             |\n",
            "|:-----------------|:------------|----------------------:|:--------------------------------------------------------------------------|\n",
            "| customerID       | string      |                  7043 | ['0002-ORFBO' '0003-MKNFE' '0004-TLHLJ' ... '9992-UJOEL' '9993-LHIEB'     |\n",
            "|                  |             |                       |  '9995-HOTOH']                                                            |\n",
            "| gender           | string      |                     2 | ['Female' 'Male']                                                         |\n",
            "| SeniorCitizen    | int64       |                     2 | [0 1]                                                                     |\n",
            "| Partner          | string      |                     2 | ['No' 'Yes']                                                              |\n",
            "| Dependents       | string      |                     2 | ['No' 'Yes']                                                              |\n",
            "| tenure           | int64       |                    73 | [ 0  1  2  3  4  5  6  7  8  9 10 11 12 13 14 15 16 17 18 19 20 21 22 23  |\n",
            "|                  |             |                       |  24 25 26 27 28 29 30 31 32 33 34 35 36 37 38 39 40 41 42 43 44 45 46 47  |\n",
            "|                  |             |                       |  48 49 50 51 52 53 54 55 56 57 58 59 60 61 62 63 64 65 66 67 68 69 70 71  |\n",
            "|                  |             |                       |  72]                                                                      |\n",
            "| PhoneService     | string      |                     2 | ['No' 'Yes']                                                              |\n",
            "| MultipleLines    | string      |                     3 | ['No' 'No phone service' 'Yes']                                           |\n",
            "| InternetService  | string      |                     3 | ['DSL' 'Fiber optic' 'No']                                                |\n",
            "| OnlineSecurity   | string      |                     3 | ['No' 'No internet service' 'Yes']                                        |\n",
            "| OnlineBackup     | string      |                     3 | ['No' 'No internet service' 'Yes']                                        |\n",
            "| DeviceProtection | string      |                     3 | ['No' 'No internet service' 'Yes']                                        |\n",
            "| TechSupport      | string      |                     3 | ['No' 'No internet service' 'Yes']                                        |\n",
            "| StreamingTV      | string      |                     3 | ['No' 'No internet service' 'Yes']                                        |\n",
            "| StreamingMovies  | string      |                     3 | ['No' 'No internet service' 'Yes']                                        |\n",
            "| Contract         | string      |                     3 | ['Month-to-month' 'One year' 'Two year']                                  |\n",
            "| PaperlessBilling | string      |                     2 | ['No' 'Yes']                                                              |\n",
            "| PaymentMethod    | string      |                     4 | ['Bank transfer (automatic)' 'Credit card (automatic)' 'Electronic check' |\n",
            "|                  |             |                       |  'Mailed check']                                                          |\n",
            "| MonthlyCharges   | float64     |                  1585 | [ 18.25  18.4   18.55 ... 118.6  118.65 118.75]                           |\n",
            "| TotalCharges     | string      |                  6531 | [' ' '100.2' '100.25' ... '999.45' '999.8' '999.9']                       |\n",
            "| Churn            | string      |                     2 | ['No' 'Yes']                                                              |\n"
          ]
        }
      ],
      "source": [
        "uniq_table = []\n",
        "\n",
        "for key in dataset:\n",
        "  uniq_values = dataset[key].unique()\n",
        "  uniq_values.sort()\n",
        "  dtype = (dataset[key].dtype, \"string\")[dataset[key].dtype == \"O\"]\n",
        "  uniq_table.append([key, dtype, len(uniq_values), uniq_values]) \n",
        "\n",
        "print(tabulate(uniq_table, headers=[\"Attribute\", \"Data Type\", \"Unique Values Count\", \"Unique Values\"], tablefmt=\"pipe\"))"
      ]
    },
    {
      "cell_type": "markdown",
      "id": "b9f7f86f",
      "metadata": {
        "id": "b9f7f86f"
      },
      "source": [
        "# Data Cleansing\n",
        "____________________________"
      ]
    },
    {
      "cell_type": "markdown",
      "id": "B6gpLAUizSdO",
      "metadata": {
        "id": "B6gpLAUizSdO"
      },
      "source": [
        "## Data Type Correction"
      ]
    },
    {
      "cell_type": "code",
      "execution_count": 97,
      "id": "WNk0jtAQ0sIh",
      "metadata": {
        "id": "WNk0jtAQ0sIh"
      },
      "outputs": [
        {
          "data": {
            "text/plain": [
              "0         29.85\n",
              "1       1889.50\n",
              "2        108.15\n",
              "3       1840.75\n",
              "4        151.65\n",
              "         ...   \n",
              "7038    1990.50\n",
              "7039    7362.90\n",
              "7040     346.45\n",
              "7041     306.60\n",
              "7042    6844.50\n",
              "Name: TotalCharges, Length: 7043, dtype: float64"
            ]
          },
          "execution_count": 97,
          "metadata": {},
          "output_type": "execute_result"
        }
      ],
      "source": [
        "# Change 'TotalCharges' column data type (String -> Float)\n",
        "dataset.TotalCharges = pd.to_numeric(dataset.TotalCharges, errors='coerce')\n",
        "dataset.TotalCharges"
      ]
    },
    {
      "cell_type": "markdown",
      "id": "ZfTo7_t8O3Qd",
      "metadata": {
        "id": "ZfTo7_t8O3Qd"
      },
      "source": [
        "## Handling Missing Values"
      ]
    },
    {
      "cell_type": "code",
      "execution_count": 98,
      "id": "iQy4rTSrCULi",
      "metadata": {
        "id": "iQy4rTSrCULi"
      },
      "outputs": [
        {
          "data": {
            "text/plain": [
              "customerID           0\n",
              "gender               0\n",
              "SeniorCitizen        0\n",
              "Partner              0\n",
              "Dependents           0\n",
              "tenure               0\n",
              "PhoneService         0\n",
              "MultipleLines        0\n",
              "InternetService      0\n",
              "OnlineSecurity       0\n",
              "OnlineBackup         0\n",
              "DeviceProtection     0\n",
              "TechSupport          0\n",
              "StreamingTV          0\n",
              "StreamingMovies      0\n",
              "Contract             0\n",
              "PaperlessBilling     0\n",
              "PaymentMethod        0\n",
              "MonthlyCharges       0\n",
              "TotalCharges        11\n",
              "Churn                0\n",
              "dtype: int64"
            ]
          },
          "execution_count": 98,
          "metadata": {},
          "output_type": "execute_result"
        },
        {
          "data": {
            "image/png": "[encoded data removed]",
            "text/plain": [
              "<Figure size 1800x720 with 2 Axes>"
            ]
          },
          "metadata": {
            "needs_background": "light"
          },
          "output_type": "display_data"
        }
      ],
      "source": [
        "# Check Missing values\n",
        "msnum.matrix(dataset)\n",
        "dataset.isnull().sum()"
      ]
    },
    {
      "cell_type": "code",
      "execution_count": 99,
      "id": "a8pgClKYCtoQ",
      "metadata": {
        "id": "a8pgClKYCtoQ"
      },
      "outputs": [
        {
          "name": "stdout",
          "output_type": "stream",
          "text": [
            "Missing values precentage in TotalCharges Column: 0.16 %\n"
          ]
        }
      ],
      "source": [
        "# Calculate the percentage of missing values in TotalCharges column\n",
        "totalChargesMissingValuesPercent = str(format((dataset.TotalCharges.isnull().sum() / len(dataset.TotalCharges)) * 100, '.2f'))\n",
        "print(f'Missing values precentage in TotalCharges Column: {totalChargesMissingValuesPercent} %')"
      ]
    },
    {
      "cell_type": "code",
      "execution_count": 100,
      "id": "dh-M7PsGHf_w",
      "metadata": {
        "id": "dh-M7PsGHf_w"
      },
      "outputs": [],
      "source": [
        "# Delete the cases with missing total charges value\n",
        "dataset.dropna(axis=0, subset=['TotalCharges'], how= 'any', inplace=True )"
      ]
    },
    {
      "cell_type": "code",
      "execution_count": 101,
      "id": "fzekRUEfJ4C9",
      "metadata": {
        "id": "fzekRUEfJ4C9"
      },
      "outputs": [
        {
          "data": {
            "text/plain": [
              "customerID          0\n",
              "gender              0\n",
              "SeniorCitizen       0\n",
              "Partner             0\n",
              "Dependents          0\n",
              "tenure              0\n",
              "PhoneService        0\n",
              "MultipleLines       0\n",
              "InternetService     0\n",
              "OnlineSecurity      0\n",
              "OnlineBackup        0\n",
              "DeviceProtection    0\n",
              "TechSupport         0\n",
              "StreamingTV         0\n",
              "StreamingMovies     0\n",
              "Contract            0\n",
              "PaperlessBilling    0\n",
              "PaymentMethod       0\n",
              "MonthlyCharges      0\n",
              "TotalCharges        0\n",
              "Churn               0\n",
              "dtype: int64"
            ]
          },
          "execution_count": 101,
          "metadata": {},
          "output_type": "execute_result"
        },
        {
          "data": {
            "image/png": "[encoded data removed]",
            "text/plain": [
              "<Figure size 1800x720 with 2 Axes>"
            ]
          },
          "metadata": {
            "needs_background": "light"
          },
          "output_type": "display_data"
        }
      ],
      "source": [
        "# Verify that the dataset doesn't contain Missing values\n",
        "msnum.matrix(dataset)\n",
        "dataset.isnull().sum()"
      ]
    },
    {
      "cell_type": "markdown",
      "id": "e034a825",
      "metadata": {
        "id": "e034a825"
      },
      "source": [
        "## Mapping String Values "
      ]
    },
    {
      "cell_type": "code",
      "execution_count": 102,
      "id": "Ljy-sIi3N_fv",
      "metadata": {
        "id": "Ljy-sIi3N_fv"
      },
      "outputs": [
        {
          "data": {
            "text/plain": [
              "customerID           object\n",
              "gender               object\n",
              "SeniorCitizen         int64\n",
              "Partner              object\n",
              "Dependents           object\n",
              "tenure                int64\n",
              "PhoneService         object\n",
              "MultipleLines        object\n",
              "InternetService      object\n",
              "OnlineSecurity       object\n",
              "OnlineBackup         object\n",
              "DeviceProtection     object\n",
              "TechSupport          object\n",
              "StreamingTV          object\n",
              "StreamingMovies      object\n",
              "Contract             object\n",
              "PaperlessBilling     object\n",
              "PaymentMethod        object\n",
              "MonthlyCharges      float64\n",
              "TotalCharges        float64\n",
              "Churn                object\n",
              "dtype: object"
            ]
          },
          "execution_count": 102,
          "metadata": {},
          "output_type": "execute_result"
        }
      ],
      "source": [
        "dataset.dtypes"
      ]
    },
    {
      "cell_type": "code",
      "execution_count": 103,
      "id": "E08MGVCLOr0m",
      "metadata": {
        "id": "E08MGVCLOr0m"
      },
      "outputs": [],
      "source": [
        "# Drop the CustomerID column\n",
        "dataset = dataset.drop(columns=['customerID'], axis=1)"
      ]
    },
    {
      "cell_type": "code",
      "execution_count": 104,
      "id": "2e43b519",
      "metadata": {
        "id": "2e43b519"
      },
      "outputs": [],
      "source": [
        "# Encode Categorical features to numaric values\n",
        "label_encoder = {}\n",
        "\n",
        "for feature in dataset:\n",
        "  if dataset[feature].dtype == \"O\":\n",
        "    label_encoder[feature] = LabelEncoder()\n",
        "    dataset[feature] = label_encoder[feature].fit_transform(dataset[feature])"
      ]
    },
    {
      "cell_type": "code",
      "execution_count": 105,
      "id": "bfDSupskOGSo",
      "metadata": {
        "id": "bfDSupskOGSo"
      },
      "outputs": [
        {
          "data": {
            "text/plain": [
              "gender                int32\n",
              "SeniorCitizen         int64\n",
              "Partner               int32\n",
              "Dependents            int32\n",
              "tenure                int64\n",
              "PhoneService          int32\n",
              "MultipleLines         int32\n",
              "InternetService       int32\n",
              "OnlineSecurity        int32\n",
              "OnlineBackup          int32\n",
              "DeviceProtection      int32\n",
              "TechSupport           int32\n",
              "StreamingTV           int32\n",
              "StreamingMovies       int32\n",
              "Contract              int32\n",
              "PaperlessBilling      int32\n",
              "PaymentMethod         int32\n",
              "MonthlyCharges      float64\n",
              "TotalCharges        float64\n",
              "Churn                 int32\n",
              "dtype: object"
            ]
          },
          "execution_count": 105,
          "metadata": {},
          "output_type": "execute_result"
        }
      ],
      "source": [
        "dataset.dtypes"
      ]
    },
    {
      "cell_type": "markdown",
      "id": "JwbWpdqaZFhO",
      "metadata": {
        "id": "JwbWpdqaZFhO"
      },
      "source": [
        "## Remove Extreme Values"
      ]
    },
    {
      "cell_type": "code",
      "execution_count": 106,
      "id": "UyRKUHrebTS7",
      "metadata": {
        "id": "UyRKUHrebTS7"
      },
      "outputs": [
        {
          "data": {
            "text/plain": [
              "<AxesSubplot:>"
            ]
          },
          "execution_count": 106,
          "metadata": {},
          "output_type": "execute_result"
        },
        {
          "data": {
            "image/png": "[encoded data removed]",
            "text/plain": [
              "<Figure size 432x288 with 1 Axes>"
            ]
          },
          "metadata": {
            "needs_background": "light"
          },
          "output_type": "display_data"
        }
      ],
      "source": [
        "dataset.boxplot([\"tenure\"])"
      ]
    },
    {
      "cell_type": "code",
      "execution_count": 107,
      "id": "HyW2t6LkeKwv",
      "metadata": {
        "id": "HyW2t6LkeKwv"
      },
      "outputs": [
        {
          "data": {
            "text/plain": [
              "<AxesSubplot:>"
            ]
          },
          "execution_count": 107,
          "metadata": {},
          "output_type": "execute_result"
        },
        {
          "data": {
            "image/png": "[encoded data removed]",
            "text/plain": [
              "<Figure size 432x288 with 1 Axes>"
            ]
          },
          "metadata": {
            "needs_background": "light"
          },
          "output_type": "display_data"
        }
      ],
      "source": [
        "dataset.boxplot([\"MonthlyCharges\"])"
      ]
    },
    {
      "cell_type": "code",
      "execution_count": 108,
      "id": "no9exLAieNxk",
      "metadata": {
        "id": "no9exLAieNxk"
      },
      "outputs": [
        {
          "data": {
            "text/plain": [
              "<AxesSubplot:>"
            ]
          },
          "execution_count": 108,
          "metadata": {},
          "output_type": "execute_result"
        },
        {
          "data": {
            "image/png": "[encoded data removed]",
            "text/plain": [
              "<Figure size 432x288 with 1 Axes>"
            ]
          },
          "metadata": {
            "needs_background": "light"
          },
          "output_type": "display_data"
        }
      ],
      "source": [
        "dataset.boxplot([\"TotalCharges\"])"
      ]
    },
    {
      "cell_type": "markdown",
      "id": "vZpM2TtY7MPM",
      "metadata": {
        "id": "vZpM2TtY7MPM"
      },
      "source": [
        "## Remove Duplicates"
      ]
    },
    {
      "cell_type": "code",
      "execution_count": 109,
      "id": "-AVC_3Gs7xAT",
      "metadata": {
        "id": "-AVC_3Gs7xAT"
      },
      "outputs": [
        {
          "name": "stdout",
          "output_type": "stream",
          "text": [
            "Dataset before removing duplicates:  (7032, 20)\n"
          ]
        }
      ],
      "source": [
        "print(\"Dataset before removing duplicates: \", dataset.shape)"
      ]
    },
    {
      "cell_type": "code",
      "execution_count": 110,
      "id": "XelWxqZu7QVd",
      "metadata": {
        "id": "XelWxqZu7QVd"
      },
      "outputs": [],
      "source": [
        "dataset.drop_duplicates(inplace=True)"
      ]
    },
    {
      "cell_type": "code",
      "execution_count": 111,
      "id": "J7mGT5ne7uID",
      "metadata": {
        "id": "J7mGT5ne7uID"
      },
      "outputs": [
        {
          "name": "stdout",
          "output_type": "stream",
          "text": [
            "Dataset after removing duplicates:  (7010, 20)\n"
          ]
        }
      ],
      "source": [
        "print(\"Dataset after removing duplicates: \", dataset.shape)"
      ]
    },
    {
      "cell_type": "markdown",
      "id": "mdBqDy9t__6A",
      "metadata": {
        "id": "mdBqDy9t__6A"
      },
      "source": [
        "# Gender Distribution"
      ]
    },
    {
      "cell_type": "code",
      "execution_count": 112,
      "id": "LU4ZlX-_ADNA",
      "metadata": {
        "id": "LU4ZlX-_ADNA"
      },
      "outputs": [
        {
          "data": {
            "image/png": "[encoded data removed]",
            "text/plain": [
              "<Figure size 432x288 with 1 Axes>"
            ]
          },
          "metadata": {
            "needs_background": "light"
          },
          "output_type": "display_data"
        }
      ],
      "source": [
        "ax = (dataset['gender'].value_counts()*100.0 /len(dataset)).plot(kind='bar', stacked=True, rot=0, color=['#4D3425','#E4512B'])\n",
        "ax.yaxis.set_major_formatter(mtick.PercentFormatter())\n",
        "ax.set_xlabel('Gender')\n",
        "ax.set_ylabel('% Customers')\n",
        "ax.set_title('Gender Distribution')\n",
        "\n",
        "# create a list to collect the plt.patches data\n",
        "totals = []\n",
        "\n",
        "# find the values and append to list\n",
        "for i in ax.patches:\n",
        "    totals.append(i.get_width())\n",
        "\n",
        "# set individual bar lables using above list\n",
        "total = sum(totals)\n",
        "\n",
        "for i in ax.patches:\n",
        "    # get_width pulls left or right; get_y pushes up or down\n",
        "    ax.text(i.get_x()+.15, i.get_height()-3.5, \\\n",
        "            str(round((i.get_height()/total), 1))+'%',\n",
        "            fontsize=12,\n",
        "            color='white',\n",
        "            weight = 'bold')"
      ]
    },
    {
      "cell_type": "code",
      "execution_count": 113,
      "id": "883205c5",
      "metadata": {},
      "outputs": [
        {
          "data": {
            "text/plain": [
              "<seaborn.axisgrid.FacetGrid at 0x24c42f51a20>"
            ]
          },
          "execution_count": 113,
          "metadata": {},
          "output_type": "execute_result"
        },
        {
          "data": {
            "image/png": "[encoded data removed]",
            "text/plain": [
              "<Figure size 402.375x360 with 1 Axes>"
            ]
          },
          "metadata": {
            "needs_background": "light"
          },
          "output_type": "display_data"
        }
      ],
      "source": [
        "sns.catplot(x=\"gender\", kind=\"count\", hue=\"Churn\", data=dataset, estimator=lambda x: sum(x==0)*100.0/len(x))"
      ]
    },
    {
      "cell_type": "markdown",
      "id": "Xj5wmw2Nxdcu",
      "metadata": {
        "id": "Xj5wmw2Nxdcu"
      },
      "source": [
        "# Feature Selection\n",
        "____________________________"
      ]
    },
    {
      "cell_type": "markdown",
      "id": "SUvRB2q0B4kt",
      "metadata": {
        "id": "SUvRB2q0B4kt"
      },
      "source": [
        "## Split dataset to x and y"
      ]
    },
    {
      "cell_type": "code",
      "execution_count": 114,
      "id": "I1Bg7Piw_9dJ",
      "metadata": {
        "colab": {
          "base_uri": "https://localhost:8080/",
          "height": 200
        },
        "id": "I1Bg7Piw_9dJ",
        "outputId": "7e346216-1341-43b9-d934-d7ce1b8e2ba2"
      },
      "outputs": [],
      "source": [
        "# Split the dataset to x and y\n",
        "x_data = np.array(dataset.iloc[:,:-1])\n",
        "y_data = np.array(dataset.iloc[:,-1])"
      ]
    },
    {
      "cell_type": "code",
      "execution_count": 115,
      "id": "_F2H1XT2KTrr",
      "metadata": {
        "id": "_F2H1XT2KTrr"
      },
      "outputs": [],
      "source": [
        "def evaluate_features_score(scores, threshold):\n",
        "  features_score_table = []\n",
        "  cnt = 0\n",
        "\n",
        "  for i in range(len(scores)):\n",
        "    if ((scores[i] >= threshold)):\n",
        "      cnt += 1\n",
        "      valid = \"True\"\n",
        "    else:\n",
        "      valid = \"False\"\n",
        "\n",
        "    features_score_table.append([i, dataset.columns[i], scores[i], valid]) \n",
        "   \n",
        "  print(tabulate(features_score_table, headers=[\"Feature Num.\", \"Feature Name\", \"Score\", f\">= {threshold}\"], tablefmt=\"pipe\"))\n",
        "\n",
        "  print(f\"\\nThere are {cnt} features >= {threshold}\\n\")\n",
        "\n",
        "  # Plot the score of each feature\n",
        "  plt.bar([i for i in range(len(scores))], scores)\n",
        "  plt.show()"
      ]
    },
    {
      "cell_type": "markdown",
      "id": "9J3ZqVY9BqEc",
      "metadata": {
        "id": "9J3ZqVY9BqEc"
      },
      "source": [
        "## Chi-Square Test\n",
        "when p-value obtained after conducting the test is **less than 0.05** that implies that the 2 variables are **dependent** (accept the Alternate hypothesis) and if the p-value is **greater that 0.05** that implies that the 2 variables are **independent** (accept the Null hypothesis)"
      ]
    },
    {
      "cell_type": "code",
      "execution_count": 116,
      "id": "MsbsUYviBt7q",
      "metadata": {
        "colab": {
          "base_uri": "https://localhost:8080/",
          "height": 681
        },
        "id": "MsbsUYviBt7q",
        "outputId": "6bfa0c9e-560b-4cb7-d6c7-b685b6c60046"
      },
      "outputs": [
        {
          "name": "stdout",
          "output_type": "stream",
          "text": [
            "|   Feature Num. | Feature Name     |          Score | >= 50   |\n",
            "|---------------:|:-----------------|---------------:|:--------|\n",
            "|              0 | gender           |      0.262688  | False   |\n",
            "|              1 | SeniorCitizen    |    134.298     | True    |\n",
            "|              2 | Partner          |     79.9457    | True    |\n",
            "|              3 | Dependents       |    129.467     | True    |\n",
            "|              4 | tenure           |  16178.6       | True    |\n",
            "|              5 | PhoneService     |      0.0833633 | False   |\n",
            "|              6 | MultipleLines    |     10.7932    | False   |\n",
            "|              7 | InternetService  |      9.71895   | False   |\n",
            "|              8 | OnlineSecurity   |    546.456     | True    |\n",
            "|              9 | OnlineBackup     |    225.882     | True    |\n",
            "|             10 | DeviceProtection |    187.372     | True    |\n",
            "|             11 | TechSupport      |    518.178     | True    |\n",
            "|             12 | StreamingTV      |      6.57018   | False   |\n",
            "|             13 | StreamingMovies  |      7.49917   | False   |\n",
            "|             14 | Contract         |   1104.89      | True    |\n",
            "|             15 | PaperlessBilling |    103.52      | True    |\n",
            "|             16 | PaymentMethod    |     58.2313    | True    |\n",
            "|             17 | MonthlyCharges   |   3674.89      | True    |\n",
            "|             18 | TotalCharges     | 618734         | True    |\n",
            "\n",
            "There are 13 features >= 50\n",
            "\n"
          ]
        },
        {
          "data": {
            "image/png": "[encoded data removed]",
            "text/plain": [
              "<Figure size 432x288 with 1 Axes>"
            ]
          },
          "metadata": {
            "needs_background": "light"
          },
          "output_type": "display_data"
        }
      ],
      "source": [
        "fs = SelectKBest(score_func=chi2 ,k='all')\n",
        "x_selected = fs.fit_transform(x_data, y_data)\n",
        "\n",
        "evaluate_features_score(fs.scores_, 50) # the score that implies that this feature is valid \n",
        "# print('Selected Features are : ' , fs.get_support())"
      ]
    },
    {
      "cell_type": "markdown",
      "id": "IGuF7ZsiEqqR",
      "metadata": {
        "id": "IGuF7ZsiEqqR"
      },
      "source": [
        "## Mutual Information"
      ]
    },
    {
      "cell_type": "code",
      "execution_count": 117,
      "id": "-cBOqJX6Esbx",
      "metadata": {
        "colab": {
          "base_uri": "https://localhost:8080/",
          "height": 681
        },
        "id": "-cBOqJX6Esbx",
        "outputId": "8e762524-cdf3-4e68-a25a-103347d190df"
      },
      "outputs": [
        {
          "name": "stdout",
          "output_type": "stream",
          "text": [
            "|   Feature Num. | Feature Name     |      Score | >= 0.01   |\n",
            "|---------------:|:-----------------|-----------:|:----------|\n",
            "|              0 | gender           | 0          | False     |\n",
            "|              1 | SeniorCitizen    | 0.0136605  | True      |\n",
            "|              2 | Partner          | 0.00486276 | False     |\n",
            "|              3 | Dependents       | 0.0117823  | True      |\n",
            "|              4 | tenure           | 0.0701417  | True      |\n",
            "|              5 | PhoneService     | 0.0029429  | False     |\n",
            "|              6 | MultipleLines    | 0          | False     |\n",
            "|              7 | InternetService  | 0.0530466  | True      |\n",
            "|              8 | OnlineSecurity   | 0.0669188  | True      |\n",
            "|              9 | OnlineBackup     | 0.0465512  | True      |\n",
            "|             10 | DeviceProtection | 0.0417069  | True      |\n",
            "|             11 | TechSupport      | 0.0685942  | True      |\n",
            "|             12 | StreamingTV      | 0.0313734  | True      |\n",
            "|             13 | StreamingMovies  | 0.0269763  | True      |\n",
            "|             14 | Contract         | 0.0954961  | True      |\n",
            "|             15 | PaperlessBilling | 0.0130394  | True      |\n",
            "|             16 | PaymentMethod    | 0.0430659  | True      |\n",
            "|             17 | MonthlyCharges   | 0.0464165  | True      |\n",
            "|             18 | TotalCharges     | 0.0409791  | True      |\n",
            "\n",
            "There are 15 features >= 0.01\n",
            "\n"
          ]
        },
        {
          "data": {
            "image/png": "[encoded data removed]",
            "text/plain": [
              "<Figure size 432x288 with 1 Axes>"
            ]
          },
          "metadata": {
            "needs_background": "light"
          },
          "output_type": "display_data"
        }
      ],
      "source": [
        "fs = SelectKBest(score_func=mutual_info_classif, k='all')\n",
        "x_selected = fs.fit_transform(x_data, y_data)\n",
        "\n",
        "evaluate_features_score(fs.scores_, 0.01) # the score that implies that this feature is valid "
      ]
    },
    {
      "cell_type": "markdown",
      "id": "GfMdbIVBGud_",
      "metadata": {
        "id": "GfMdbIVBGud_"
      },
      "source": [
        "## Wrapper Function"
      ]
    },
    {
      "cell_type": "code",
      "execution_count": 118,
      "id": "hTB3e4_UGyq8",
      "metadata": {
        "id": "hTB3e4_UGyq8"
      },
      "outputs": [],
      "source": [
        "def select_features(score_method, num_of_features, x_data, y_data):\n",
        "  \"\"\" Conduct the feature selection process \"\"\"\n",
        "  # Change scoring function used in the selection process\n",
        "  if score_method == \"chi2\":\n",
        "    score_func = chi2\n",
        "  elif score_method == \"mutual_info\":\n",
        "    score_func = mutual_info_classif\n",
        "\n",
        "  fs = SelectKBest(score_func=score_func, k=num_of_features)\n",
        "  x_data = fs.fit_transform(x_data, y_data)\n",
        "  return x_data, fs"
      ]
    },
    {
      "cell_type": "markdown",
      "id": "36cd5dc8",
      "metadata": {
        "id": "36cd5dc8"
      },
      "source": [
        "# Divide Dataset to Train & Test\n",
        "\n"
      ]
    },
    {
      "cell_type": "code",
      "execution_count": 119,
      "id": "TUJIsBcSJMMh",
      "metadata": {
        "id": "TUJIsBcSJMMh"
      },
      "outputs": [],
      "source": [
        "def split_data(x_data, y_data):\n",
        "  \"\"\" Splits the data to train and test \"\"\"\n",
        "  return train_test_split(x_data, y_data, test_size=0.2, shuffle=True, random_state=99)# 80% training and 20% test"
      ]
    },
    {
      "cell_type": "code",
      "execution_count": 120,
      "id": "f8C4OBgHldRO",
      "metadata": {
        "colab": {
          "base_uri": "https://localhost:8080/"
        },
        "id": "f8C4OBgHldRO",
        "outputId": "4a0176f5-99d8-43d3-bb0f-f5988d7c3604"
      },
      "outputs": [
        {
          "name": "stdout",
          "output_type": "stream",
          "text": [
            "(5608, 19)\n",
            "(5608,)\n",
            "(1402, 19)\n",
            "(1402,)\n"
          ]
        }
      ],
      "source": [
        "x_train, x_test, y_train, y_test = split_data(x_data, y_data) \n",
        "print(x_train.shape)\n",
        "print(y_train.shape)\n",
        "print(x_test.shape)\n",
        "print(y_test.shape)"
      ]
    },
    {
      "cell_type": "markdown",
      "id": "-wEJUFoNn1Yc",
      "metadata": {
        "id": "-wEJUFoNn1Yc"
      },
      "source": [
        "# Logistic Regression Algorithm \n",
        "____________________________\n"
      ]
    },
    {
      "cell_type": "markdown",
      "id": "ETK5UExQzL8q",
      "metadata": {
        "id": "ETK5UExQzL8q"
      },
      "source": [
        "## Model Training Using all Features"
      ]
    },
    {
      "cell_type": "code",
      "execution_count": 121,
      "id": "0eOQOQCqzRxA",
      "metadata": {
        "id": "0eOQOQCqzRxA"
      },
      "outputs": [],
      "source": [
        "def train_logistic_regression_model():\n",
        "  global models\n",
        "  # Create a Logistic Regression Object, perform Logistic Regression\n",
        "  log_reg_model = LogisticRegression(solver='newton-cg', C=1, random_state=1, penalty='l2')\n",
        "  log_reg_model.fit(x_train,y_train)\n",
        "  \n",
        "  x_selected, fs = select_features('chi2', \"all\", x_data, y_data)\n",
        "  models[\"LOGISTIC_REGRESSION\"] = [log_reg_model, fs]\n",
        "  save_model(\"LOGISTIC_REGRESSION\")\n",
        "  \n",
        "  return evaluate_ml_model(log_reg_model, x_test, y_test)\n",
        "\n",
        "if APP_MODE == \"development\":\n",
        "  train_logistic_regression_model()"
      ]
    },
    {
      "cell_type": "markdown",
      "id": "-k0PBwn_odrt",
      "metadata": {
        "id": "-k0PBwn_odrt"
      },
      "source": [
        "## Hyperparameters Tuning"
      ]
    },
    {
      "cell_type": "code",
      "execution_count": 122,
      "id": "wAuwdAdaeSao",
      "metadata": {
        "colab": {
          "base_uri": "https://localhost:8080/"
        },
        "id": "wAuwdAdaeSao",
        "outputId": "a85b78e8-74be-46bd-b0fd-0d8a79fd1c82"
      },
      "outputs": [],
      "source": [
        "if APP_MODE == \"tunning\":\n",
        "  bestModel = hyperparameter_tuning(\n",
        "    LogisticRegression(random_state=1, max_iter=400), \n",
        "    {\n",
        "      \"solver\" : [\"newton-cg\", \"lbfgs\", \"liblinear\", \"sag\", \"saga\"],\n",
        "      \"penalty\" : [\"l1\", \"l2\"],\n",
        "      \"C\" : np.logspace(-4, 4, 50)\n",
        "    }\n",
        "  )\n",
        "  models[\"LOGISTIC_REGRESSION\"] = bestModel\n"
      ]
    },
    {
      "cell_type": "markdown",
      "id": "d342b3df",
      "metadata": {},
      "source": [
        "## Load/Save the model"
      ]
    },
    {
      "cell_type": "code",
      "execution_count": 123,
      "id": "a39nxJPmst_D",
      "metadata": {
        "id": "a39nxJPmst_D"
      },
      "outputs": [],
      "source": [
        "if APP_MODE == \"production\":\n",
        "  load_model(\"LOGISTIC_REGRESSION\")\n",
        "else:\n",
        "  save_model(\"LOGISTIC_REGRESSION\")"
      ]
    },
    {
      "cell_type": "markdown",
      "id": "bqaAEAkez9wD",
      "metadata": {
        "id": "bqaAEAkez9wD"
      },
      "source": [
        "# SVM Algorithm \n",
        "____________________________\n"
      ]
    },
    {
      "cell_type": "markdown",
      "id": "XiGi5KXlz9wE",
      "metadata": {
        "id": "XiGi5KXlz9wE"
      },
      "source": [
        "## Model Training Using all Features"
      ]
    },
    {
      "cell_type": "code",
      "execution_count": 124,
      "id": "2k_7ZR8Oz9wE",
      "metadata": {
        "colab": {
          "base_uri": "https://localhost:8080/"
        },
        "id": "2k_7ZR8Oz9wE",
        "outputId": "fc25c4b0-c094-4d6d-8a18-1772f81521fb"
      },
      "outputs": [],
      "source": [
        "# kernel to be set linear as it is binary class\n",
        "def train_svm_model():\n",
        "    global models\n",
        "    svm_model = SVC(C=10, kernel='linear', gamma='scale')\n",
        "    svm_model.fit(x_train, y_train) # Train the model\n",
        "\n",
        "    # Get number of support vectors per class\n",
        "    print(svm_model.n_support_)\n",
        "\n",
        "    # Get support vectors themselves\n",
        "    print(svm_model.support_vectors_)\n",
        "\n",
        "    x_selected, fs = select_features('chi2', \"all\", x_data, y_data)\n",
        "    models[\"SVM\"] = [svm_model, fs]\n",
        "    save_model(\"SVM\")\n",
        "\n",
        "    return evaluate_ml_model(svm_model, x_test, y_test)\n",
        "\n",
        "if APP_MODE == \"development\":\n",
        "  train_svm_model()"
      ]
    },
    {
      "cell_type": "markdown",
      "id": "1e9f6abd",
      "metadata": {},
      "source": [
        "## Hyperparameters Tuning"
      ]
    },
    {
      "cell_type": "code",
      "execution_count": 125,
      "id": "fbfb0d60",
      "metadata": {},
      "outputs": [],
      "source": [
        "if APP_MODE == \"tunning\":\n",
        "  bestModel = hyperparameter_tuning(\n",
        "    SVC(), \n",
        "    {\n",
        "      \"kernel\" : [\"linear\", \"rbf\"],\n",
        "      \"C\" : [50, 10, 1.0, 0.1, 0.01],\n",
        "      \"game\" : ['scale','auto']\n",
        "    }\n",
        "  )\n",
        "  models[\"SVM\"] = bestModel"
      ]
    },
    {
      "cell_type": "markdown",
      "id": "54fdeb91",
      "metadata": {},
      "source": [
        "## Load/Save the model"
      ]
    },
    {
      "cell_type": "code",
      "execution_count": 126,
      "id": "8c19fdfb",
      "metadata": {},
      "outputs": [],
      "source": [
        "if APP_MODE == \"production\":\n",
        "  load_model(\"SVM\")\n",
        "else:\n",
        "  save_model(\"SVM\")"
      ]
    },
    {
      "cell_type": "markdown",
      "id": "Q_JpbSbVzxcl",
      "metadata": {
        "id": "Q_JpbSbVzxcl"
      },
      "source": [
        "# Decision Tree ID3 Algorithm\n",
        "\n",
        "____________________________\n"
      ]
    },
    {
      "cell_type": "markdown",
      "id": "YZ5q82pPzxcl",
      "metadata": {
        "id": "YZ5q82pPzxcl"
      },
      "source": [
        "## Model Training Using all Features"
      ]
    },
    {
      "cell_type": "code",
      "execution_count": 127,
      "id": "hriDD6yyzxcm",
      "metadata": {
        "id": "hriDD6yyzxcm"
      },
      "outputs": [],
      "source": [
        "def train_id3_mode():\n",
        "  global models\n",
        "  DTClassifier = DecisionTreeClassifier(criterion='entropy', max_depth=5)\n",
        "  DTClassifier.fit(x_train,y_train)\n",
        "\n",
        "  x_selected, fs = select_features('chi2', \"all\", x_data, y_data)\n",
        "  models[\"DECISION_TREE_ID3\"] = [DTClassifier, fs]\n",
        "  save_model(\"DECISION_TREE_ID3\")\n",
        "  \n",
        "  evaluate_ml_model(DTClassifier, x_test, y_test)\n",
        "\n",
        "if APP_MODE == \"development\":\n",
        "  train_id3_mode()"
      ]
    },
    {
      "cell_type": "markdown",
      "id": "056aca35",
      "metadata": {},
      "source": [
        "## Hyperparameters Tuning"
      ]
    },
    {
      "cell_type": "code",
      "execution_count": 128,
      "id": "10ab0645",
      "metadata": {},
      "outputs": [],
      "source": [
        "if APP_MODE == \"tunning\":\n",
        "  bestModel = hyperparameter_tuning(\n",
        "    DecisionTreeClassifier(), \n",
        "    {\n",
        "      \"criterion\" : [\"entropy\", \"gini\"],\n",
        "      \"max_depth\" : range(5, 20)\n",
        "    }\n",
        "  )\n",
        "  models[\"DECISION_TREE_ID3\"] = bestModel"
      ]
    },
    {
      "cell_type": "markdown",
      "id": "7fb960d7",
      "metadata": {},
      "source": [
        "## Load/Save the Model"
      ]
    },
    {
      "cell_type": "code",
      "execution_count": 129,
      "id": "48bef660",
      "metadata": {},
      "outputs": [],
      "source": [
        "if APP_MODE == \"production\":\n",
        "  load_model(\"DECISION_TREE_ID3\")\n",
        "else:\n",
        "  save_model(\"DECISION_TREE_ID3\")"
      ]
    },
    {
      "cell_type": "markdown",
      "id": "UH3JervzK9qa",
      "metadata": {
        "id": "UH3JervzK9qa"
      },
      "source": [
        "# Random Forest [ Bonus Algorithm ]\n",
        "____________________________\n"
      ]
    },
    {
      "cell_type": "markdown",
      "id": "di72ODi9m9Zg",
      "metadata": {
        "id": "di72ODi9m9Zg"
      },
      "source": [
        "## Model Training Using all Features"
      ]
    },
    {
      "cell_type": "code",
      "execution_count": 130,
      "id": "XXCa4YVlnDQS",
      "metadata": {
        "colab": {
          "base_uri": "https://localhost:8080/"
        },
        "id": "XXCa4YVlnDQS",
        "outputId": "d221b03d-2ebd-4262-c325-bb360a211510"
      },
      "outputs": [],
      "source": [
        "def train_random_forest_model():\n",
        "  global models\n",
        "  model_rf = RandomForestClassifier(n_estimators=1000 , oob_score=True, n_jobs = -1, random_state=50, max_features=\"auto\", max_leaf_nodes=30)\n",
        "                                \n",
        "  model_rf.fit(x_train, y_train)\n",
        "\n",
        "  x_selected, fs = select_features('chi2', \"all\", x_data, y_data)\n",
        "  models[\"RANDOM_FOREST_TREE\"] = [model_rf, fs]\n",
        "  save_model(\"RANDOM_FOREST_TREE\")\n",
        "\n",
        "  evaluate_ml_model(model_rf, x_test, y_test)\n",
        "\n",
        "if APP_MODE == \"development\":\n",
        "  train_random_forest_model()"
      ]
    },
    {
      "cell_type": "markdown",
      "id": "48e5ca2e",
      "metadata": {},
      "source": [
        "## Load/Save the Model"
      ]
    },
    {
      "cell_type": "code",
      "execution_count": 131,
      "id": "c2b6b5b2",
      "metadata": {},
      "outputs": [],
      "source": [
        "if APP_MODE == \"production\":\n",
        "  load_model(\"RANDOM_FOREST_TREE\")\n",
        "else:\n",
        "  save_model(\"RANDOM_FOREST_TREE\")"
      ]
    },
    {
      "cell_type": "markdown",
      "id": "zB0VJcwL0e-l",
      "metadata": {
        "id": "zB0VJcwL0e-l"
      },
      "source": [
        "# Graphic User Interface (Mohy)\n",
        "____________________________"
      ]
    },
    {
      "cell_type": "code",
      "execution_count": 132,
      "id": "ae60ffd5",
      "metadata": {},
      "outputs": [],
      "source": [
        "from AppWindow_ui import Ui_AppWindow\n",
        "\n",
        "class AppWindow(QMainWindow, Ui_AppWindow):\n",
        "\n",
        "    def __init__(self):\n",
        "        super().__init__()\n",
        "        self.setupUi(self)\n",
        "        self.UiComponentsEvent()\n",
        "        self.show()\n",
        "\n",
        "    # Set up all events in the UI components\n",
        "    def UiComponentsEvent(self):\n",
        "        self.trainBtn.clicked.connect(lambda:self.trainModel())\n",
        "        self.testBtn.clicked.connect(lambda:self.testModel())\n",
        "        self.predictBtn.clicked.connect(lambda:self.predict())\n",
        "        \n",
        "    def getSelectedModel(self):\n",
        "        if self.linearRegressionBox.isChecked():\n",
        "            return \"LOGISTIC_REGRESSION\"\n",
        "        elif self.svmBox.isChecked():\n",
        "            return \"SVM\"\n",
        "        elif self.id3Box.isChecked():\n",
        "            return \"DECISION_TREE_ID3\"\n",
        "        elif self.randomForestBox.isChecked():\n",
        "            return \"RANDOM_FOREST_TREE\"\n",
        "        else:\n",
        "            return \"LOGISTIC_REGRESSION\"\n",
        "\n",
        "    def trainModel(self):\n",
        "        if self.linearRegressionBox.isChecked():\n",
        "            train_logistic_regression_model()\n",
        "        elif self.svmBox.isChecked():\n",
        "            train_svm_model()\n",
        "        elif self.id3Box.isChecked():\n",
        "            train_id3_mode()\n",
        "        elif self.randomForestBox.isChecked():\n",
        "            train_random_forest_model()\n",
        "        else:\n",
        "            return \"LOGISTIC_REGRESSION\"\n",
        "\n",
        "    def testModel(self):\n",
        "        self.scoreLbl.setText(str(evaluate_ml_model(models[self.getSelectedModel()][0], x_test, y_test))+\"%\")\n",
        "\n",
        "    def predict(self):\n",
        "        y_pred = deploy_model(self.getSelectedModel(), {\n",
        "            \"customerID\" : self.customerIdInput.text(),\n",
        "            \"gender\" : [\"Male\", \"Female\"][self.femaleBtn.isChecked()],\n",
        "            \"SeniorCitizen\" : int(self.seniorCitizenBox.isChecked()),\n",
        "            \"Partner\" : [\"No\", \"Yes\"][self.partnerBox.isChecked()],\n",
        "            \"Dependents\" : [\"No\", \"Yes\"][self.dependentBox.isChecked()],\n",
        "            \"tenure\" : str(self.tenureSpinBox.value()),\n",
        "            \"PhoneService\" : [\"No\", \"Yes\"][self.phoneServiceBox.isChecked()],\n",
        "            \"MultipleLines\" : self.multipleLinesCombo.currentText(), \n",
        "            \"InternetService\" : self.internetServiceCombo.currentText(),\n",
        "            \"OnlineSecurity\" : self.onlineSecurityCombo.currentText(),\n",
        "            \"OnlineBackup\" : self.onlineBackupCombo.currentText(),\n",
        "            \"DeviceProtection\" : self.deviceProtectionCombo.currentText(),\n",
        "            \"TechSupport\" : self.techSupportBoxCombo.currentText(),\n",
        "            \"StreamingTV\" : self.streamingTVCombo.currentText(),\n",
        "            \"StreamingMovies\" : self.StreamingMoviesCombo.currentText(),\n",
        "            \"Contract\" : self.contractCombo.currentText(),\n",
        "            \"PaperlessBilling\" : [\"No\", \"Yes\"][self.paperlessBillingBox.isChecked()],\n",
        "            \"PaymentMethod\" : self.PaymentMethodCombo.currentText(),\n",
        "            \"MonthlyCharges\" : self.monthlyChargesInput.text(),\n",
        "            \"TotalCharges\" : self.totalChargesInput.text()})\n",
        "        self.churnLbl.setText(y_pred[0])"
      ]
    },
    {
      "cell_type": "code",
      "execution_count": 133,
      "id": "0e9bbdc1",
      "metadata": {},
      "outputs": [
        {
          "name": "stdout",
          "output_type": "stream",
          "text": [
            "----------  --------\n",
            "Test Score  0.808845\n",
            "Accuracy    0.808845\n",
            "Precision   0.680782\n",
            "Recall      0.551451\n",
            "----------  -------- \n",
            "\n",
            "              precision    recall  f1-score   support\n",
            "\n",
            "           0       0.84      0.90      0.87      1023\n",
            "           1       0.68      0.55      0.61       379\n",
            "\n",
            "    accuracy                           0.81      1402\n",
            "   macro avg       0.76      0.73      0.74      1402\n",
            "weighted avg       0.80      0.81      0.80      1402\n",
            " \n",
            "\n",
            "----------  --------\n",
            "Test Score  0.791726\n",
            "Accuracy    0.791726\n",
            "Precision   0.682008\n",
            "Recall      0.430079\n",
            "----------  -------- \n",
            "\n",
            "              precision    recall  f1-score   support\n",
            "\n",
            "           0       0.81      0.93      0.87      1023\n",
            "           1       0.68      0.43      0.53       379\n",
            "\n",
            "    accuracy                           0.79      1402\n",
            "   macro avg       0.75      0.68      0.70      1402\n",
            "weighted avg       0.78      0.79      0.77      1402\n",
            " \n",
            "\n",
            "----------  --------\n",
            "Test Score  0.777461\n",
            "Accuracy    0.777461\n",
            "Precision   0.601208\n",
            "Recall      0.525066\n",
            "----------  -------- \n",
            "\n",
            "              precision    recall  f1-score   support\n",
            "\n",
            "           0       0.83      0.87      0.85      1023\n",
            "           1       0.60      0.53      0.56       379\n",
            "\n",
            "    accuracy                           0.78      1402\n",
            "   macro avg       0.72      0.70      0.71      1402\n",
            "weighted avg       0.77      0.78      0.77      1402\n",
            " \n",
            "\n",
            "----------  --------\n",
            "Test Score  0.808845\n",
            "Accuracy    0.808845\n",
            "Precision   0.680782\n",
            "Recall      0.551451\n",
            "----------  -------- \n",
            "\n",
            "              precision    recall  f1-score   support\n",
            "\n",
            "           0       0.84      0.90      0.87      1023\n",
            "           1       0.68      0.55      0.61       379\n",
            "\n",
            "    accuracy                           0.81      1402\n",
            "   macro avg       0.76      0.73      0.74      1402\n",
            "weighted avg       0.80      0.81      0.80      1402\n",
            " \n",
            "\n"
          ]
        },
        {
          "ename": "SystemExit",
          "evalue": "0",
          "output_type": "error",
          "traceback": [
            "An exception has occurred, use %tb to see the full traceback.\n",
            "\u001b[1;31mSystemExit\u001b[0m\u001b[1;31m:\u001b[0m 0\n"
          ]
        },
        {
          "name": "stderr",
          "output_type": "stream",
          "text": [
            "c:\\ProgramData\\Anaconda3\\lib\\site-packages\\IPython\\core\\interactiveshell.py:3449: UserWarning: To exit: use 'exit', 'quit', or Ctrl-D.\n",
            "  warn(\"To exit: use 'exit', 'quit', or Ctrl-D.\", stacklevel=1)\n"
          ]
        },
        {
          "data": {
            "image/png": "[encoded data removed]",
            "text/plain": [
              "<Figure size 432x288 with 2 Axes>"
            ]
          },
          "metadata": {
            "needs_background": "light"
          },
          "output_type": "display_data"
        },
        {
          "data": {
            "image/png": "[encoded data removed]",
            "text/plain": [
              "<Figure size 432x288 with 2 Axes>"
            ]
          },
          "metadata": {
            "needs_background": "light"
          },
          "output_type": "display_data"
        },
        {
          "data": {
            "image/png": "[encoded data removed]",
            "text/plain": [
              "<Figure size 432x288 with 2 Axes>"
            ]
          },
          "metadata": {
            "needs_background": "light"
          },
          "output_type": "display_data"
        },
        {
          "data": {
            "image/png": "[encoded data removed]",
            "text/plain": [
              "<Figure size 432x288 with 2 Axes>"
            ]
          },
          "metadata": {
            "needs_background": "light"
          },
          "output_type": "display_data"
        }
      ],
      "source": [
        "def main():\n",
        "    App = QApplication(sys.argv)\n",
        "    App.setStyle('Breeze') # ['Breeze', 'Oxygen', 'QtCurve', 'Windows', 'Fusion']\n",
        "\n",
        "    appWindow = AppWindow()\n",
        "    \n",
        "    sys.exit(App.exec())\n",
        "\n",
        "\t\n",
        "if __name__ == '__main__':\n",
        "   main()"
      ]
    }
  ],
  "metadata": {
    "colab": {
      "collapsed_sections": [
        "35255fc2"
      ],
      "name": "CustomerChurnPredictor.ipynb",
      "provenance": []
    },
    "interpreter": {
      "hash": "ad2bdc8ecc057115af97d19610ffacc2b4e99fae6737bb82f5d7fb13d2f2c186"
    },
    "kernelspec": {
      "display_name": "Python 3.7.3 ('base')",
      "language": "python",
      "name": "python3"
    },
    "language_info": {
      "codemirror_mode": {
        "name": "ipython",
        "version": 3
      },
      "file_extension": ".py",
      "mimetype": "text/x-python",
      "name": "python",
      "nbconvert_exporter": "python",
      "pygments_lexer": "ipython3",
      "version": "3.7.3"
    }
  },
  "nbformat": 4,
  "nbformat_minor": 5
}
